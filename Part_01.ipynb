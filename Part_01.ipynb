{
 "cells": [
  {
   "cell_type": "markdown",
   "metadata": {},
   "source": [
    "### related resources\n",
    "- book: Crypto 101\n",
    "- vid: \n",
    "    - [One-Time Pads](https://www.youtube.com/watch?v=2_w9l9visH8)"
   ]
  },
  {
   "cell_type": "markdown",
   "metadata": {},
   "source": [
    "### XOR"
   ]
  },
  {
   "cell_type": "code",
   "execution_count": 5,
   "metadata": {},
   "outputs": [
    {
     "data": {
      "text/plain": [
       "10"
      ]
     },
     "execution_count": 5,
     "metadata": {},
     "output_type": "execute_result"
    },
    {
     "data": {
      "text/plain": [
       "3"
      ]
     },
     "execution_count": 5,
     "metadata": {},
     "output_type": "execute_result"
    },
    {
     "data": {
      "text/plain": [
       "9"
      ]
     },
     "execution_count": 5,
     "metadata": {},
     "output_type": "execute_result"
    }
   ],
   "source": [
    "# 00~11 => 0\n",
    "# 10~01 => 1 \n",
    "\n",
    "0b1010 # 10 \n",
    "0b0011 # 3 \n",
    "0b1001 # 9"
   ]
  },
  {
   "cell_type": "markdown",
   "metadata": {},
   "source": [
    "### One-time pad\n",
    "- example from [Eddie Woo](https://www.youtube.com/watch?v=2_w9l9visH8)'s course"
   ]
  },
  {
   "cell_type": "markdown",
   "metadata": {},
   "source": [
    "weakness of *One-time Pad*\n",
    "- the *pad* can't be lost (securing it)\n",
    "- length limitation (the key must be >= msg u wanna send)\n",
    "- error prone & time consuming (lost the key / the opt is not that easy)\n",
    "- do the receiver KNOW the one-time pad?? (that's how u decipher)\n",
    "- the OTP should be ***perfectly random***"
   ]
  },
  {
   "cell_type": "code",
   "execution_count": 6,
   "metadata": {},
   "outputs": [
    {
     "data": {
      "text/plain": [
       "[8, 1, 16, 16, 25]"
      ]
     },
     "execution_count": 6,
     "metadata": {},
     "output_type": "execute_result"
    },
    {
     "data": {
      "text/plain": [
       "[8, 19, 13, 4, 23]"
      ]
     },
     "execution_count": 6,
     "metadata": {},
     "output_type": "execute_result"
    }
   ],
   "source": [
    "alphabet = 'abcdefghijklmnopqrstuvwxyz'\n",
    "\n",
    "msg = [ alphabet.index(i)+1 for i in 'happy' ] \n",
    "pad = [8, 19, 13, 4, 23]\n",
    "\n",
    "msg  # pos in alphabet (a-z)\n",
    "pad  # should be rand & same len as msg you send"
   ]
  },
  {
   "cell_type": "code",
   "execution_count": 7,
   "metadata": {},
   "outputs": [
    {
     "data": {
      "text/plain": [
       "[16, 20, 29, 20, 48]"
      ]
     },
     "execution_count": 7,
     "metadata": {},
     "output_type": "execute_result"
    },
    {
     "data": {
      "text/plain": [
       "[16, 20, 3, 20, 22]"
      ]
     },
     "execution_count": 7,
     "metadata": {},
     "output_type": "execute_result"
    }
   ],
   "source": [
    "added = []\n",
    "\n",
    "for i in range(5):\n",
    "    added.append(msg[i] + pad[i])\n",
    "    \n",
    "added\n",
    "\n",
    "for i in added:\n",
    "    if i > 26:\n",
    "        added[added.index(i)] = i % 26\n",
    "        \n",
    "added"
   ]
  },
  {
   "cell_type": "code",
   "execution_count": 8,
   "metadata": {},
   "outputs": [
    {
     "data": {
      "text/plain": [
       "['p', 't', 'c', 't', 'v']"
      ]
     },
     "execution_count": 8,
     "metadata": {},
     "output_type": "execute_result"
    }
   ],
   "source": [
    "msg_encrypted = []\n",
    "\n",
    "for i in added:\n",
    "    msg_encrypted.append(alphabet[i-1])\n",
    "    \n",
    "msg_encrypted"
   ]
  },
  {
   "cell_type": "markdown",
   "metadata": {},
   "source": []
  },
  {
   "cell_type": "markdown",
   "metadata": {},
   "source": [
    "### Block ciphers"
   ]
  },
  {
   "cell_type": "code",
   "execution_count": null,
   "metadata": {},
   "outputs": [],
   "source": []
  }
 ],
 "metadata": {
  "kernelspec": {
   "display_name": "Python 3",
   "language": "python",
   "name": "python3"
  },
  "language_info": {
   "codemirror_mode": {
    "name": "ipython",
    "version": 3
   },
   "file_extension": ".py",
   "mimetype": "text/x-python",
   "name": "python",
   "nbconvert_exporter": "python",
   "pygments_lexer": "ipython3",
   "version": "3.6.5"
  }
 },
 "nbformat": 4,
 "nbformat_minor": 2
}
