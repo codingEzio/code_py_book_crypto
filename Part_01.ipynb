{
 "cells": [
  {
   "cell_type": "markdown",
   "metadata": {},
   "source": [
    "<hr>\n",
    "*Crypto 101*, available in [here](https://www.crypto101.io).\n",
    "<hr>"
   ]
  },
  {
   "cell_type": "markdown",
   "metadata": {},
   "source": [
    "## XOR"
   ]
  },
  {
   "cell_type": "code",
   "execution_count": 1,
   "metadata": {},
   "outputs": [
    {
     "data": {
      "text/plain": [
       "10"
      ]
     },
     "execution_count": 1,
     "metadata": {},
     "output_type": "execute_result"
    },
    {
     "data": {
      "text/plain": [
       "3"
      ]
     },
     "execution_count": 1,
     "metadata": {},
     "output_type": "execute_result"
    },
    {
     "data": {
      "text/plain": [
       "9"
      ]
     },
     "execution_count": 1,
     "metadata": {},
     "output_type": "execute_result"
    }
   ],
   "source": [
    "# 00~11 => 0\n",
    "# 10~01 => 1 \n",
    "\n",
    "0b1010 # 10 \n",
    "0b0011 # 3 \n",
    "0b1001 # 9\n",
    "\n",
    "# some derived rules \n",
    "d = '''\n",
    "    a ^ b => b ^ a  ---  10 ^ 3  == 3 ^ 10\n",
    "    a ^ a => 0      ---  10 ^ 10 =  0\n",
    "    a ^ 0 => a      ---  10 ^ 0  = 10\n",
    "    \n",
    "    and ... \n",
    "    \n",
    "      a ^ b ^ a \n",
    "    = a ^ a ^ b \n",
    "    = 0 ^ b \n",
    "    = b ^ 0 \n",
    "    = b\n",
    "'''"
   ]
  },
  {
   "cell_type": "markdown",
   "metadata": {},
   "source": [
    "## One-time pad"
   ]
  },
  {
   "cell_type": "markdown",
   "metadata": {},
   "source": [
    "resources\n",
    "- example from [Eddie Woo](https://www.youtube.com/watch?v=2_w9l9visH8)'s course\n",
    "- and [One-Time Pads](https://www.youtube.com/watch?v=2_w9l9visH8)"
   ]
  },
  {
   "cell_type": "markdown",
   "metadata": {},
   "source": [
    "if using the key multiple times\n",
    "- guess the whole msg by analyzing the frequency\n",
    "\n",
    "also \n",
    "- the key's length **must be** at least as large as all info u wanna transmit\n",
    "- the (*real random*) key generation is *fairly difficult*\n",
    "- and it's **time-consuming** without specialize hardware"
   ]
  },
  {
   "cell_type": "code",
   "execution_count": 2,
   "metadata": {},
   "outputs": [
    {
     "data": {
      "text/plain": [
       "[8, 1, 16, 16, 25]"
      ]
     },
     "execution_count": 2,
     "metadata": {},
     "output_type": "execute_result"
    },
    {
     "data": {
      "text/plain": [
       "[8, 19, 13, 4, 23]"
      ]
     },
     "execution_count": 2,
     "metadata": {},
     "output_type": "execute_result"
    }
   ],
   "source": [
    "alphabet = 'abcdefghijklmnopqrstuvwxyz'\n",
    "\n",
    "msg = [ alphabet.index(i)+1 for i in 'happy' ] \n",
    "pad = [8, 19, 13, 4, 23]\n",
    "\n",
    "msg  # pos in alphabet (a-z)\n",
    "pad  # should be rand & same len as msg you send"
   ]
  },
  {
   "cell_type": "code",
   "execution_count": 3,
   "metadata": {},
   "outputs": [
    {
     "data": {
      "text/plain": [
       "[16, 20, 29, 20, 48]"
      ]
     },
     "execution_count": 3,
     "metadata": {},
     "output_type": "execute_result"
    },
    {
     "data": {
      "text/plain": [
       "[16, 20, 3, 20, 22]"
      ]
     },
     "execution_count": 3,
     "metadata": {},
     "output_type": "execute_result"
    }
   ],
   "source": [
    "added = []\n",
    "\n",
    "for i in range(5):\n",
    "    added.append(msg[i] + pad[i])\n",
    "    \n",
    "added\n",
    "\n",
    "for i in added:\n",
    "    if i > 26:\n",
    "        added[added.index(i)] = i % 26\n",
    "        \n",
    "added"
   ]
  },
  {
   "cell_type": "code",
   "execution_count": 4,
   "metadata": {},
   "outputs": [
    {
     "data": {
      "text/plain": [
       "['p', 't', 'c', 't', 'v']"
      ]
     },
     "execution_count": 4,
     "metadata": {},
     "output_type": "execute_result"
    }
   ],
   "source": [
    "msg_encrypted = []\n",
    "\n",
    "for i in added:\n",
    "    msg_encrypted.append(alphabet[i-1])\n",
    "    \n",
    "msg_encrypted"
   ]
  },
  {
   "cell_type": "markdown",
   "metadata": {},
   "source": [
    "## Block ciphers"
   ]
  },
  {
   "cell_type": "markdown",
   "metadata": {},
   "source": [
    "### Intro\n",
    "\n",
    "what is it\n",
    "- made of **sequence of bits**\n",
    "- (the ciphers are) always the ***same size*** (fixed by **block cipher**'s *block size*)\n",
    "- **symmetric-key** encryption\n",
    "\n",
    "*C* = *E(k, P)*<br>\n",
    "*P* = *D(k, C)*\n",
    "- K: key (D, E using the same)\n",
    "- P: plaintext (block)\n",
    "- E: func for encryption\n",
    "- D: func for decryption"
   ]
  },
  {
   "cell_type": "markdown",
   "metadata": {},
   "source": [
    "its features (roughly)\n",
    "> Down below is a *block cipher* (2<sup>4</sup> blocks only for exp)\n",
    "\n",
    "- real & modern block ciphers have much longer block sizes ( e.g. 2<sup>128</sup> blocks )\n",
    "- the **random** permutations (down below) were produced by the block cipher\n",
    "- *a different key lead to a completely different set of arrows*\n",
    "\n",
    "![block_cipher_01](./img/block_cipher_01.jpg)"
   ]
  },
  {
   "cell_type": "markdown",
   "metadata": {},
   "source": [
    "### AES\n",
    "\n",
    "Info\n",
    "- full: ***A***dvanced ***E***ncryption ***S***tandard\n",
    "- Block size of 128 bits and keys sizes of 128, 192 and 256 bits. \n",
    "- There are *no practical attacks* known against AES (for now).\n",
    "\n",
    "Hmm\n",
    "- AES is much secure and faster than *DES*, *3DES*\n",
    "\n",
    "### DES, 3DES\n",
    "\n",
    "Info\n",
    "- full: ***D***ata ***E***ncryption ***S***tandard\n",
    "- *Tiny* keys sizes of 56 bits (<small>well, see urself for the details</small>).\n",
    "- It (DES) can be brute forced in *less than a day*.\n",
    "\n",
    "Hmm\n",
    "- The *3DES* still using the old DES.\n",
    "- But, by **applying the algo three times**, <br>the cipher becomes harder to attack through ***cryptanalysis***."
   ]
  },
  {
   "cell_type": "markdown",
   "metadata": {},
   "source": [
    "## Stream Ciphers"
   ]
  },
  {
   "cell_type": "markdown",
   "metadata": {},
   "source": [
    "### Intro\n",
    "\n",
    "what is it \n",
    "- **symmetric-key** encryption\n",
    "\n",
    "comparison\n",
    "- With *block ciphers*, we can only send msg **of a very limited len**.\n",
    "- But with *stream ciphers*, they're ***sufficiently large*** for us (<small>ideally. And it do have limits</small>).\n",
    "\n",
    "some terms\n",
    "\n",
    "| term | expl | \n",
    "| :--: | :--- | \n",
    "| ECB  | *Electronic Code Book* | \n",
    "| CBC  | *Cipher Block Chaining* | "
   ]
  },
  {
   "cell_type": "markdown",
   "metadata": {},
   "source": [
    "### ECB - 0x01"
   ]
  },
  {
   "cell_type": "markdown",
   "metadata": {},
   "source": [
    "intro\n",
    "- It using *block cipher* in a particular conf, behaves like a stream ciper.\n",
    "- Repeating plaintext blocks ***result in repeating ciphertext blocks***. \n",
    "\n",
    "viz the flaw \n",
    "- applied to an image\n",
    "\n",
    "![ ](./img/stream_cipher_01.jpg)"
   ]
  },
  {
   "cell_type": "markdown",
   "metadata": {},
   "source": [
    "what can we learn from the image (above)\n",
    "1. Cuz identical blocks of pixels => identical blocks of ciphertext, <br> so the global structure of the image is **largely preserved**.\n",
    "2. When we increase the block size, it got *slightly better*, but still ***remains visible***.<br> <small>( the pixels of the image are ***a lot***, we don't even got enough block size to encrypt it )</small>\n",
    "3. From the last image <small>(f)</small>, <br>it ***looks like*** rand noise, *but* it *doesn't mean* something is *properly encrypted*.\n",
    "4. That is to say, even we get to the *idealized encryption* (at least visually), <br>for the other image, it might just got *less visual* <small>(roughly \"not encrpyted\")</small>."
   ]
  },
  {
   "cell_type": "markdown",
   "metadata": {},
   "source": [
    "### ECB - 0x02\n",
    "\n",
    "We're gonna use an **active attack**, <br>where the attacker actively communicate with their target."
   ]
  },
  {
   "cell_type": "markdown",
   "metadata": {},
   "source": [
    "To do this, we introduce a new concept\n",
    "- ***Oracle***, a \"black box\" that is able to <br>produce a solution for any instance of a given computational problem.\n",
    "\n",
    "The equation: C = *ECB* (E<sub>k</sub>, A || S)\n",
    "- C, A: *Cipher* / *the-data*\n",
    "- E, k: Encryption with key *k*\n",
    "- S: a secret suffix specific to the system. (***we're gonna decrypt it***)"
   ]
  },
  {
   "cell_type": "markdown",
   "metadata": {},
   "source": [
    "- sending in a plaintext A that's just ***one byte shorter than the block size*** \n"
   ]
  },
  {
   "cell_type": "code",
   "execution_count": null,
   "metadata": {},
   "outputs": [],
   "source": []
  },
  {
   "cell_type": "code",
   "execution_count": null,
   "metadata": {},
   "outputs": [],
   "source": []
  },
  {
   "cell_type": "code",
   "execution_count": null,
   "metadata": {},
   "outputs": [],
   "source": []
  }
 ],
 "metadata": {
  "kernelspec": {
   "display_name": "Python 3",
   "language": "python",
   "name": "python3"
  },
  "language_info": {
   "codemirror_mode": {
    "name": "ipython",
    "version": 3
   },
   "file_extension": ".py",
   "mimetype": "text/x-python",
   "name": "python",
   "nbconvert_exporter": "python",
   "pygments_lexer": "ipython3",
   "version": "3.6.5"
  }
 },
 "nbformat": 4,
 "nbformat_minor": 2
}
