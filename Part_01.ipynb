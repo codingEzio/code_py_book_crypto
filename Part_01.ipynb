{
 "cells": [
  {
   "cell_type": "markdown",
   "metadata": {},
   "source": [
    "<hr>\n",
    "*Crypto 101*, available in [here](https://www.crypto101.io).\n",
    "<hr>"
   ]
  },
  {
   "cell_type": "markdown",
   "metadata": {},
   "source": [
    "## XOR"
   ]
  },
  {
   "cell_type": "code",
   "execution_count": 6,
   "metadata": {},
   "outputs": [
    {
     "data": {
      "text/plain": [
       "10"
      ]
     },
     "execution_count": 6,
     "metadata": {},
     "output_type": "execute_result"
    },
    {
     "data": {
      "text/plain": [
       "3"
      ]
     },
     "execution_count": 6,
     "metadata": {},
     "output_type": "execute_result"
    },
    {
     "data": {
      "text/plain": [
       "9"
      ]
     },
     "execution_count": 6,
     "metadata": {},
     "output_type": "execute_result"
    }
   ],
   "source": [
    "# 00~11 => 0\n",
    "# 10~01 => 1 \n",
    "\n",
    "0b1010 # 10 \n",
    "0b0011 # 3 \n",
    "0b1001 # 9\n",
    "\n",
    "# some derived rules \n",
    "d = '''\n",
    "    a ^ b => b ^ a  ---  10 ^ 3  == 3 ^ 10\n",
    "    a ^ a => 0      ---  10 ^ 10 =  0\n",
    "    a ^ 0 => a      ---  10 ^ 0  = 10\n",
    "    \n",
    "    and ... \n",
    "    \n",
    "      a ^ b ^ a \n",
    "    = a ^ a ^ b \n",
    "    = 0 ^ b \n",
    "    = b ^ 0 \n",
    "    = b\n",
    "'''"
   ]
  },
  {
   "cell_type": "markdown",
   "metadata": {},
   "source": [
    "## One-time pad"
   ]
  },
  {
   "cell_type": "markdown",
   "metadata": {},
   "source": [
    "resources\n",
    "- example from [Eddie Woo](https://www.youtube.com/watch?v=2_w9l9visH8)'s course\n",
    "- and [One-Time Pads](https://www.youtube.com/watch?v=2_w9l9visH8)"
   ]
  },
  {
   "cell_type": "markdown",
   "metadata": {},
   "source": [
    "if using the key multiple times\n",
    "- guess the whole msg by analyzing the frequency\n",
    "\n",
    "also \n",
    "- the key's length **must be** at least as large as all info u wanna transmit\n",
    "- the (*real random*) key generation is *fairly difficult*\n",
    "- and it's **time-consuming** without specialize hardware"
   ]
  },
  {
   "cell_type": "code",
   "execution_count": 7,
   "metadata": {},
   "outputs": [
    {
     "data": {
      "text/plain": [
       "[8, 1, 16, 16, 25]"
      ]
     },
     "execution_count": 7,
     "metadata": {},
     "output_type": "execute_result"
    },
    {
     "data": {
      "text/plain": [
       "[8, 19, 13, 4, 23]"
      ]
     },
     "execution_count": 7,
     "metadata": {},
     "output_type": "execute_result"
    }
   ],
   "source": [
    "alphabet = 'abcdefghijklmnopqrstuvwxyz'\n",
    "\n",
    "msg = [ alphabet.index(i)+1 for i in 'happy' ] \n",
    "pad = [8, 19, 13, 4, 23]\n",
    "\n",
    "msg  # pos in alphabet (a-z)\n",
    "pad  # should be rand & same len as msg you send"
   ]
  },
  {
   "cell_type": "code",
   "execution_count": 8,
   "metadata": {},
   "outputs": [
    {
     "data": {
      "text/plain": [
       "[16, 20, 29, 20, 48]"
      ]
     },
     "execution_count": 8,
     "metadata": {},
     "output_type": "execute_result"
    },
    {
     "data": {
      "text/plain": [
       "[16, 20, 3, 20, 22]"
      ]
     },
     "execution_count": 8,
     "metadata": {},
     "output_type": "execute_result"
    }
   ],
   "source": [
    "added = []\n",
    "\n",
    "for i in range(5):\n",
    "    added.append(msg[i] + pad[i])\n",
    "    \n",
    "added\n",
    "\n",
    "for i in added:\n",
    "    if i > 26:\n",
    "        added[added.index(i)] = i % 26\n",
    "        \n",
    "added"
   ]
  },
  {
   "cell_type": "code",
   "execution_count": 9,
   "metadata": {},
   "outputs": [
    {
     "data": {
      "text/plain": [
       "['p', 't', 'c', 't', 'v']"
      ]
     },
     "execution_count": 9,
     "metadata": {},
     "output_type": "execute_result"
    }
   ],
   "source": [
    "msg_encrypted = []\n",
    "\n",
    "for i in added:\n",
    "    msg_encrypted.append(alphabet[i-1])\n",
    "    \n",
    "msg_encrypted"
   ]
  },
  {
   "cell_type": "markdown",
   "metadata": {},
   "source": [
    "## Block ciphers"
   ]
  },
  {
   "cell_type": "markdown",
   "metadata": {},
   "source": [
    "### Intro\n",
    "\n",
    "what is it\n",
    "- made of **sequence of bits**\n",
    "- (the ciphers are) always the ***same size*** (fixed by **block cipher**'s *block size*)\n",
    "- **symmetric-key** encryption\n",
    "\n",
    "*C* = *E(k, P)*<br>\n",
    "*P* = *D(k, C)*\n",
    "- K: key (D, E using the same)\n",
    "- P: plaintext (block)\n",
    "- E: func for encryption\n",
    "- D: func for decryption"
   ]
  },
  {
   "cell_type": "markdown",
   "metadata": {},
   "source": [
    "its features (roughly)\n",
    "> Down below is a *block cipher* (2<sup>4</sup> blocks only for exp)\n",
    "\n",
    "- real & modern block ciphers have much longer block sizes ( e.g. 2<sup>128</sup> blocks )\n",
    "- the **random** permutations (down below) were produced by the block cipher\n",
    "- *a different key lead to a completely different set of arrows*\n",
    "\n",
    "<img src=\"img/block_cipher_01.jpg\" width=350 height=300>"
   ]
  },
  {
   "cell_type": "markdown",
   "metadata": {},
   "source": [
    "### AES\n",
    "\n",
    "Info\n",
    "- full: ***A***dvanced ***E***ncryption ***S***tandard\n",
    "- Block size of 128 bits and keys sizes of 128, 192 and 256 bits. \n",
    "- There are *no practical attacks* known against AES (for now).\n",
    "\n",
    "Hmm\n",
    "- AES is much secure and faster than *DES*, *3DES*\n",
    "\n",
    "### DES, 3DES\n",
    "\n",
    "Info\n",
    "- full: ***D***ata ***E***ncryption ***S***tandard\n",
    "- *Tiny* keys sizes of 56 bits (<small>well, see urself for the details</small>).\n",
    "- It (DES) can be brute forced in *less than a day*.\n",
    "\n",
    "Hmm\n",
    "- The *3DES* still using the old DES.\n",
    "- But, by **applying the algo three times**, <br>the cipher becomes harder to attack through ***cryptanalysis***."
   ]
  },
  {
   "cell_type": "markdown",
   "metadata": {},
   "source": [
    "## Stream Ciphers"
   ]
  },
  {
   "cell_type": "markdown",
   "metadata": {},
   "source": [
    "### Intro\n",
    "\n",
    "Well, with *block ciphers*, \n",
    "- we can only send msg **of a very limited len** (<small>the block len of the block cipher</small>)"
   ]
  }
 ],
 "metadata": {
  "kernelspec": {
   "display_name": "Python 3",
   "language": "python",
   "name": "python3"
  },
  "language_info": {
   "codemirror_mode": {
    "name": "ipython",
    "version": 3
   },
   "file_extension": ".py",
   "mimetype": "text/x-python",
   "name": "python",
   "nbconvert_exporter": "python",
   "pygments_lexer": "ipython3",
   "version": "3.6.5"
  }
 },
 "nbformat": 4,
 "nbformat_minor": 2
}
